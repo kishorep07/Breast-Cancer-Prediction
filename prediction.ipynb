{
 "cells": [
  {
   "cell_type": "markdown",
   "metadata": {},
   "source": [
    "# Breast Cancer Prediction\n",
    "\n",
    "\n",
    "This Project is used to predict if a person is having Breast Cancer/ if the tumor is malignant or benign.<br>\n",
    "\n",
    "We are using __Breast Cancer Wisconsin (Diagnostic) Data Set__ (https://archive.ics.uci.edu/ml/datasets/Breast+Cancer+Wisconsin+%28Diagnostic%29).<br>\n",
    "***"
   ]
  },
  {
   "cell_type": "markdown",
   "metadata": {},
   "source": [
    "## Data Set Information\n",
    "\n",
    "Features are computed from a digitized image of a fine needle aspirate (FNA) of a breast mass. They describe characteristics of the cell nuclei present in the image.\n",
    "<br>\n",
    "\n",
    "Separating plane described above was obtained using Multisurface Method-Tree (MSM-T) [K. P. Bennett, \"Decision Tree Construction Via Linear Programming.\" Proceedings of the 4th Midwest Artificial Intelligence and Cognitive Science Society, pp. 97-101, 1992], a classification method which uses linear programming to construct a decision tree. Relevant features were selected using an exhaustive search in the space of 1-4 features and 1-3 separating planes.\n",
    "<br>\n",
    "\n",
    "The actual linear program used to obtain the separating plane in the 3-dimensional space is that described in: [K. P. Bennett and O. L. Mangasarian: \"Robust Linear Programming Discrimination of Two Linearly Inseparable Sets\", Optimization Methods and Software 1, 1992, 23-34].\n",
    "<br>\n",
    "\n",
    "This database is also available through the UW CS ftp server:\n",
    ">`ftp ftp.cs.wisc.edu`\n",
    "<br>`cd math-prog/cpo-dataset/machine-learn/WDBC/`"
   ]
  },
  {
   "cell_type": "markdown",
   "metadata": {},
   "source": [
    "## Attribute Information\n",
    "\n",
    "Ten real-valued features are computed for each cell nucleus:\n",
    "\n",
    "1. Radius (mean of distances from center to points on the perimeter)\n",
    "2. Texture (standard deviation of gray-scale values)\n",
    "3. Perimeter\n",
    "4. Area\n",
    "5. Smoothness (local variation in radius lengths)\n",
    "6. Compactness (perimeter^2 / area - 1.0)\n",
    "7. Concavity (severity of concave portions of the contour)\n",
    "8. Concave points (number of concave portions of the contour) \n",
    "9. Symmetry\n",
    "10. Fractal dimension (\"coastline approximation\" - 1)\n",
    "\n",
    "The real-valued dataset is available at Kaggle dataset [Breast Cancer Wisconsin (Diagnostic) Data Set](https://www.kaggle.com/uciml/breast-cancer-wisconsin-data#data.csv)\n",
    "\n",
    "This data is converted into the dataset we are using in this project, which has 9 attributes with an id and a label column.\n",
    "\n",
    "***"
   ]
  },
  {
   "cell_type": "markdown",
   "metadata": {},
   "source": [
    "### Importing modules"
   ]
  },
  {
   "cell_type": "code",
   "execution_count": 1,
   "metadata": {},
   "outputs": [],
   "source": [
    "import numpy as np\n",
    "from math import sqrt\n",
    "from collections import Counter\n",
    "import pandas as pd\n",
    "import random"
   ]
  },
  {
   "cell_type": "markdown",
   "metadata": {},
   "source": [
    "### Accessing Dataset from Kaggle"
   ]
  },
  {
   "cell_type": "code",
   "execution_count": 2,
   "metadata": {},
   "outputs": [
    {
     "name": "stdout",
     "output_type": "stream",
     "text": [
      "        id  x1  x2  x3  x4  x5  x6  x7  x8  x9  label\n",
      "0  1000025   5   1   1   1   2   1   3   1   1      2\n",
      "1  1002945   5   4   4   5   7  10   3   2   1      2\n",
      "2  1015425   3   1   1   1   2   2   3   1   1      2\n",
      "3  1016277   6   8   8   1   3   4   3   7   1      2\n",
      "4  1017023   4   1   1   3   2   1   3   1   1      2\n"
     ]
    }
   ],
   "source": [
    "df = pd.read_csv('https://storage.googleapis.com/kaggle-datasets/136259/323346/breast-cancer-wisconsin.data.txt?GoogleAccessId=web-data@kaggle-161607.iam.gserviceaccount.com&Expires=1557079013&Signature=dItvLB1KwKVX4LIPuAuGho%2FnMoJ70TQ8N1JWwdCMj4iik3pfBjEpK8AaPtt9m4q%2B9%2FeGSjSOA5tWy%2BMZrYtYFhS%2FdQf%2F%2Bj9xMeLsB0pSki9r%2BDgTw6A%2F%2BBhGA3zVehPQnbK9V9WJfBETZBq3wGry4a1YHZ0wR0TC9f0ds55FN9VMhB882HANpffKjbUkvsxnlM0ahJctNxxUIHrSwsRXbTwwfSbjX0pXm6ulzD0HwwwbSmyFyQNNCs%2BFdr9SM5PW5MBA4RTvTSiUWOv0QN9c9dZS%2F6VU2iLMWRnRZsHSb5KlUPqoYnZ5rjFi2matw3fi%2Fti%2FgQ21qYCUyHiPoihshw%3D%3D')\n",
    "print(df.head())\n",
    "df.replace('?',-99999, inplace=True)\n",
    "df.drop(['id'], 1, inplace=True)\n",
    "full_data = df.astype(float).values.tolist()"
   ]
  },
  {
   "cell_type": "markdown",
   "metadata": {},
   "source": [
    "- We remove the id column and saved in the form of list.\n",
    "- The list with the dataset is shuffled randomly.\n",
    "- Divide the dataset into train_set and test_set dictionaries with keys representing the *label [Malignant or Benign]*"
   ]
  },
  {
   "cell_type": "code",
   "execution_count": 4,
   "metadata": {},
   "outputs": [],
   "source": [
    "random.shuffle(full_data)\n",
    "test_size = 0.2\n",
    "train_set = {2:[], 4:[]} #2 & 4 is output data\n",
    "test_set = {2:[], 4:[]}  #2 is for the benign tumors   4 is for malignant tumors,\n",
    "\n",
    "train_data = full_data[:-int(test_size*len(full_data))]\n",
    "test_data = full_data[-int(test_size*len(full_data)):]\n"
   ]
  },
  {
   "cell_type": "code",
   "execution_count": 5,
   "metadata": {},
   "outputs": [],
   "source": [
    "for i in train_data:  \n",
    "    train_set[i[-1]].append(i[:-1])\n",
    "for i in test_data:\n",
    "    test_set[i[-1]].append(i[:-1])"
   ]
  },
  {
   "cell_type": "code",
   "execution_count": 11,
   "metadata": {},
   "outputs": [],
   "source": [
    "def k_nearest_neighbors(data, predict, k=3):\n",
    "    if len(data) >= k:\n",
    "        warnings.warn('K is set to a value less than total voting groups!')\n",
    "        \n",
    "    distances = []\n",
    "    for group in data:\n",
    "        for features in data[group]:\n",
    "            euclidean_distance = np.linalg.norm(np.array(features)-np.array(predict))\n",
    "            distances.append([euclidean_distance,group])\n",
    "    #print(distances)\n",
    "    #print(sorted(distances))\n",
    "    #print(sorted(distances)[:k])\n",
    "        \n",
    "    votes = [i[1] for i in sorted(distances)[:k]]\n",
    "    #print(Counter(votes))\n",
    "    vote_result = Counter(votes).most_common(1)[0][0]\n",
    "    return vote_result   # 2,4"
   ]
  },
  {
   "cell_type": "code",
   "execution_count": 17,
   "metadata": {},
   "outputs": [
    {
     "name": "stdout",
     "output_type": "stream",
     "text": [
      "[10.0, 4.0, 4.0, 6.0, 2.0, 10.0, 2.0, 3.0, 1.0]\n",
      "According to the prediction, the person has a malignant tumor!!\n",
      "\n",
      "Prediction Accuracy: 96.4 %\n"
     ]
    }
   ],
   "source": [
    "correct = 0\n",
    "total=0\n",
    "for group in test_set:\n",
    "    for data in test_set[group]:\n",
    "        vote = k_nearest_neighbors(train_set, data, k=11)\n",
    "        if group == vote: \n",
    "            correct += 1\n",
    "        total += 1\n",
    "\n",
    "data=test_set[random.choice([2,4])][5]\n",
    "print(data)\n",
    "vote = k_nearest_neighbors(train_set,data,k=11)\n",
    "if(vote==2):\n",
    "    print('According to the prediction, the person has a benign tumor.')\n",
    "else:\n",
    "    print('According to the prediction, the person has a malignant tumor!!\\n')\n",
    "print('Prediction Accuracy:', round((correct/total)*100, 2), '%')"
   ]
  },
  {
   "cell_type": "code",
   "execution_count": null,
   "metadata": {},
   "outputs": [],
   "source": []
  },
  {
   "cell_type": "code",
   "execution_count": null,
   "metadata": {},
   "outputs": [],
   "source": []
  }
 ],
 "metadata": {
  "kernelspec": {
   "display_name": "Python 3",
   "language": "python",
   "name": "python3"
  },
  "language_info": {
   "codemirror_mode": {
    "name": "ipython",
    "version": 3
   },
   "file_extension": ".py",
   "mimetype": "text/x-python",
   "name": "python",
   "nbconvert_exporter": "python",
   "pygments_lexer": "ipython3",
   "version": "3.7.1"
  }
 },
 "nbformat": 4,
 "nbformat_minor": 2
}
